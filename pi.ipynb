{
 "cells": [
  {
   "attachments": {},
   "cell_type": "markdown",
   "metadata": {},
   "source": [
    "#$pii!!!!!!!!!!!!!!!!!!$"
   ]
  },
  {
   "attachments": {},
   "cell_type": "markdown",
   "metadata": {},
   "source": [
    "$archmedeis method   = \\lim_{n \\to \\infty}   n\\sin(\\frac{180}{n})$"
   ]
  },
  {
   "cell_type": "code",
   "execution_count": 11,
   "metadata": {},
   "outputs": [
    {
     "name": "stdout",
     "output_type": "stream",
     "text": [
      "3.141592653589793e-11\n"
     ]
    }
   ],
   "source": [
    "import numpy as np\n",
    "\n",
    "n=100000000000\n",
    "np.set_printoptions(precision = 100, suppress = True)\n",
    "print(np.sin(np.pi/n))\n"
   ]
  },
  {
   "attachments": {},
   "cell_type": "markdown",
   "metadata": {},
   "source": [
    "$ liebniz  = \\pi = \\frac{1}{1} - \\frac{1}{3} + \\frac{1}{5} - \\frac{1}{7} - \\frac{1}{9} + \\frac{1}{11} .... \\infty$"
   ]
  },
  {
   "cell_type": "code",
   "execution_count": 12,
   "metadata": {},
   "outputs": [],
   "source": [
    "def leibniz(n):\n",
    "    t_sum = 0\n",
    "    for i in range(n):\n",
    "        term = (-1) ** i /(2*i+1)\n",
    "        t_sum = t_sum + term\n",
    "    return t_sum * 4\n",
    "\n",
    "# Reading number of terms to be considered in Leibniz formula\n",
    "terms = 100000000\n",
    "\n",
    "# Function call\n",
    "pi = leibniz(terms)\n",
    "\n",
    "# Displaying result\n",
    "print(\"Pi = \", pi)"
   ]
  }
 ],
 "metadata": {
  "kernelspec": {
   "display_name": "Python 3",
   "language": "python",
   "name": "python3"
  },
  "language_info": {
   "codemirror_mode": {
    "name": "ipython",
    "version": 3
   },
   "file_extension": ".py",
   "mimetype": "text/x-python",
   "name": "python",
   "nbconvert_exporter": "python",
   "pygments_lexer": "ipython3",
   "version": "3.10.8"
  },
  "orig_nbformat": 4,
  "vscode": {
   "interpreter": {
    "hash": "781d60798fabf3ed98a1cbdfe0f8815fd8bb6f94ad0364f4ff0421cff0c575b7"
   }
  }
 },
 "nbformat": 4,
 "nbformat_minor": 2
}
